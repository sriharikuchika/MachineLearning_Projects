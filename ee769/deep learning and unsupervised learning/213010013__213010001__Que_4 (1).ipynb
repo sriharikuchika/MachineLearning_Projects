{
  "nbformat": 4,
  "nbformat_minor": 0,
  "metadata": {
    "colab": {
      "name": "213010013 & 213010001_ Que 4.ipynb",
      "provenance": [],
      "collapsed_sections": []
    },
    "kernelspec": {
      "name": "python3",
      "display_name": "Python 3"
    },
    "language_info": {
      "name": "python"
    }
  },
  "cells": [
    {
      "cell_type": "markdown",
      "source": [
        "Here i am importing the libraries which are used for kpca\n",
        "\n"
      ],
      "metadata": {
        "id": "oHSt61BtXUk6"
      }
    },
    {
      "cell_type": "code",
      "execution_count": 2,
      "metadata": {
        "id": "K5U_ZPBH4sn-"
      },
      "outputs": [],
      "source": [
        "import pandas as pd\n",
        "import numpy as np\n",
        "import seaborn as sns\n",
        "import matplotlib.pylab as plt\n",
        "from sklearn.manifold import TSNE"
      ]
    },
    {
      "cell_type": "markdown",
      "source": [
        "Here i am reading the csv file and checking whether there are null data or not"
      ],
      "metadata": {
        "id": "f1RYHxvTXkqe"
      }
    },
    {
      "cell_type": "code",
      "source": [
        "data = pd.read_csv(\"https://www.ee.iitb.ac.in/~asethi/Dump/DataKPCA.csv\")\n",
        "data.isnull().sum()"
      ],
      "metadata": {
        "colab": {
          "base_uri": "https://localhost:8080/"
        },
        "id": "Fv9NpvY57J40",
        "outputId": "9df7df4a-d623-46d1-cca8-052804106c08"
      },
      "execution_count": 3,
      "outputs": [
        {
          "output_type": "execute_result",
          "data": {
            "text/plain": [
              "x1    0\n",
              "x2    0\n",
              "x3    0\n",
              "x4    0\n",
              "x5    0\n",
              "x6    0\n",
              "x7    0\n",
              "dtype: int64"
            ]
          },
          "metadata": {},
          "execution_count": 3
        }
      ]
    },
    {
      "cell_type": "markdown",
      "source": [
        "Here i am preprocessing the data"
      ],
      "metadata": {
        "id": "XYX9s2NvXyO2"
      }
    },
    {
      "cell_type": "code",
      "source": [
        "from sklearn.preprocessing import StandardScaler\n",
        "sc = StandardScaler()\n",
        "sc.fit(data)\n",
        "data_std = sc.transform(data)"
      ],
      "metadata": {
        "id": "189zD7aj7bQs"
      },
      "execution_count": 4,
      "outputs": []
    },
    {
      "cell_type": "markdown",
      "source": [
        "## here i am implementing the kernel pca and calculating the variance and then cummulative sum of the variance and plotted."
      ],
      "metadata": {
        "id": "q0UBta2yX4bB"
      }
    },
    {
      "cell_type": "code",
      "source": [
        "from sklearn.decomposition import KernelPCA\n",
        "kp = KernelPCA( kernel=\"rbf\")\n",
        "kp.fit(data_std)\n",
        "eigen_sum = sum(kp.eigenvalues_)\n",
        "eigen_val = kp.eigenvalues_\n",
        "\n",
        "variance = eigen_val / eigen_sum\n",
        "cum_sum_exp = np.cumsum(variance)\n",
        "plt.bar(range(0,len(variance)), variance, alpha=0.5, align='center', label='Individual explained variance')\n",
        "plt.step(range(0,len(cum_sum_exp)), cum_sum_exp, where='mid',label='Cumulative explained variance')\n",
        "plt.ylabel('Explained variance ratio')\n",
        "plt.xlabel('KPC index')\n",
        "plt.legend()\n",
        "plt.show()"
      ],
      "metadata": {
        "colab": {
          "base_uri": "https://localhost:8080/",
          "height": 279
        },
        "id": "MHSLqY0b6WY6",
        "outputId": "14b541a7-ea93-4aa1-aa54-68aae92b9e39"
      },
      "execution_count": 17,
      "outputs": [
        {
          "output_type": "display_data",
          "data": {
            "text/plain": [
              "<Figure size 432x288 with 1 Axes>"
            ],
            "image/png": "[encoded data removed]"
          },
          "metadata": {
            "needs_background": "light"
          }
        }
      ]
    },
    {
      "cell_type": "code",
      "source": [
        ""
      ],
      "metadata": {
        "id": "DzZwMeed42Z6"
      },
      "execution_count": null,
      "outputs": []
    },
    {
      "cell_type": "markdown",
      "source": [
        "References:\n",
        "\n",
        "https://scikit-learn.org/stable/modules/generated/sklearn.decomposition.KernelPCA.html\n",
        "\n",
        "For Explained variance plot:\n",
        "1. https://vitalflux.com/pca-explained-variance-concept-python-example/#:~:text=Explained%20variance%20is%20calculated%20as,decomposition%20PCA%20class"
      ],
      "metadata": {
        "id": "kA2b1eS4BLAk"
      }
    }
  ]
}