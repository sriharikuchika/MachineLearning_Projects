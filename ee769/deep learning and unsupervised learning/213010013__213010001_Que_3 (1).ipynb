{
  "nbformat": 4,
  "nbformat_minor": 0,
  "metadata": {
    "colab": {
      "name": "213010013 & 213010001_Que 3.ipynb",
      "provenance": [],
      "collapsed_sections": []
    },
    "kernelspec": {
      "name": "python3",
      "display_name": "Python 3"
    },
    "language_info": {
      "name": "python"
    }
  },
  "cells": [
    {
      "cell_type": "markdown",
      "source": [
        "here i am importing the libraries"
      ],
      "metadata": {
        "id": "dbKK4qLmYFkB"
      }
    },
    {
      "cell_type": "code",
      "execution_count": 2,
      "metadata": {
        "id": "AoXgfvNY_rbx"
      },
      "outputs": [],
      "source": [
        "import pandas as pd\n",
        "import numpy as np\n",
        "import seaborn as sns\n",
        "import matplotlib.pylab as plt\n",
        "from sklearn.manifold import TSNE"
      ]
    },
    {
      "cell_type": "markdown",
      "source": [
        "Here i am reading the csv file and checking whether are null elements or not"
      ],
      "metadata": {
        "id": "AlXvouQFYJwo"
      }
    },
    {
      "cell_type": "code",
      "source": [
        "data = pd.read_csv(\"https://www.ee.iitb.ac.in/~asethi/Dump/DataPCA.csv\")\n",
        "data.isnull().sum()"
      ],
      "metadata": {
        "colab": {
          "base_uri": "https://localhost:8080/"
        },
        "id": "2ivyt9Dh_zaI",
        "outputId": "c5793f5a-43e3-4f3b-a6bf-fc097f98b90d"
      },
      "execution_count": 3,
      "outputs": [
        {
          "output_type": "execute_result",
          "data": {
            "text/plain": [
              "x1    0\n",
              "x2    0\n",
              "x3    0\n",
              "x4    0\n",
              "x5    0\n",
              "x6    0\n",
              "x7    0\n",
              "dtype: int64"
            ]
          },
          "metadata": {},
          "execution_count": 3
        }
      ]
    },
    {
      "cell_type": "markdown",
      "source": [
        "## plotting the histograms"
      ],
      "metadata": {
        "id": "0WUiWYLRYRnE"
      }
    },
    {
      "cell_type": "code",
      "source": [
        "\n",
        "hist = data.hist()"
      ],
      "metadata": {
        "colab": {
          "base_uri": "https://localhost:8080/",
          "height": 281
        },
        "id": "5ERc6MukA9m-",
        "outputId": "19a97944-ffa7-4132-dcf7-208ce8102143"
      },
      "execution_count": 6,
      "outputs": [
        {
          "output_type": "display_data",
          "data": {
            "text/plain": [
              "<Figure size 432x288 with 9 Axes>"
            ],
            "image/png": "[encoded data removed]"
          },
          "metadata": {
            "needs_background": "light"
          }
        }
      ]
    },
    {
      "cell_type": "markdown",
      "source": [
        "### here i am preprocessing the data and calculating the variance and cummulative variance vs no of components."
      ],
      "metadata": {
        "id": "oMemflOHYVKv"
      }
    },
    {
      "cell_type": "code",
      "source": [
        "from sklearn.preprocessing import StandardScaler\n",
        "sc = StandardScaler()\n",
        "sc.fit(data)\n",
        "data_std = sc.transform(data)\n",
        "\n",
        "#\n",
        "# Import eigh method for calculating eigenvalues and eigenvectirs\n",
        "#\n",
        "from numpy.linalg import eigh\n",
        "#\n",
        "# Determine covariance matrix\n",
        "#\n",
        "cov_matrix = np.cov(data_std, rowvar=False)\n",
        "#\n",
        "# Determine eigenvalues and eigenvectors\n",
        "#\n",
        "egnvalues, egnvectors = eigh(cov_matrix)\n",
        "#\n",
        "# Determine explained variance\n",
        "#\n",
        "total_egnvalues = sum(egnvalues)\n",
        "var_exp = [(i/total_egnvalues) for i in sorted(egnvalues, reverse=True)]\n",
        "#\n",
        "# Plot the explained variance against cumulative explained variance\n",
        "#\n",
        "import matplotlib.pyplot as plt\n",
        "cum_sum_exp = np.cumsum(var_exp)\n",
        "plt.bar(range(0,len(var_exp)), var_exp, alpha=0.5, align='center', label='Individual explained variance')\n",
        "plt.step(range(0,len(cum_sum_exp)), cum_sum_exp, where='mid',label='Cumulative explained variance')\n",
        "plt.ylabel('Explained variance ratio')\n",
        "plt.xlabel('Principal component index')\n",
        "plt.legend(loc='best')\n",
        "plt.tight_layout()\n",
        "plt.show()"
      ],
      "metadata": {
        "colab": {
          "base_uri": "https://localhost:8080/",
          "height": 297
        },
        "id": "hD_aVR_2AmbZ",
        "outputId": "37d91e11-d36b-4723-b33b-f0e3962d2436"
      },
      "execution_count": 4,
      "outputs": [
        {
          "output_type": "display_data",
          "data": {
            "text/plain": [
              "<Figure size 432x288 with 1 Axes>"
            ],
            "image/png": "[encoded data removed]"
          },
          "metadata": {
            "needs_background": "light"
          }
        }
      ]
    },
    {
      "cell_type": "markdown",
      "source": [
        "References:\n",
        "For histogram plot:\n",
        "1. https://pandas.pydata.org/docs/reference/api/pandas.DataFrame.hist.html\n",
        "\n",
        "For explained variance and its plot:\n",
        "\n",
        "1. https://vitalflux.com/pca-explained-variance-concept-python-example/#:~:text=Explained%20variance%20is%20calculated%20as,decomposition%20PCA%20class"
      ],
      "metadata": {
        "id": "jCWqOM0EB5e0"
      }
    }
  ]
}