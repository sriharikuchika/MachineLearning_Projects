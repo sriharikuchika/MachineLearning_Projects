{
  "nbformat": 4,
  "nbformat_minor": 0,
  "metadata": {
    "colab": {
      "name": "1st Project - Gold Prediction.ipynb",
      "provenance": [],
      "collapsed_sections": [],
      "authorship_tag": "ABX9TyNJmdB9jT8h4/JMSrcVfJGU",
      "include_colab_link": true
    },
    "kernelspec": {
      "name": "python3",
      "display_name": "Python 3"
    },
    "language_info": {
      "name": "python"
    }
  },
  "cells": [
    {
      "cell_type": "markdown",
      "metadata": {
        "id": "view-in-github",
        "colab_type": "text"
      },
      "source": [
        "<a href=\"https://colab.research.google.com/github/ravitejays/ravitejays/blob/main/1st_Project_Gold_Prediction.ipynb\" target=\"_parent\"><img src=\"https://colab.research.google.com/assets/colab-badge.svg\" alt=\"Open In Colab\"/></a>"
      ]
    },
    {
      "cell_type": "markdown",
      "source": [
        "Below are several libraries I'm using for the project"
      ],
      "metadata": {
        "id": "SNiS3UmePNL6"
      }
    },
    {
      "cell_type": "code",
      "execution_count": null,
      "metadata": {
        "id": "VGuKNJisOPOY"
      },
      "outputs": [],
      "source": [
        "import numpy as np\n",
        "import pandas as pd\n",
        "import matplotlib.pyplot as plt   #useful for plotting\n",
        "import seaborn as sns\n",
        "from sklearn.model_selection import train_test_split  #Splitting Original data as Train and test data\n",
        "from sklearn.ensemble import RandomForestRegressor  #Using RF Regression Algorithm\n",
        "from sklearn import metrics   #Evaluate model to find the error and accuracy score"
      ]
    },
    {
      "cell_type": "markdown",
      "source": [
        "Now we will be doing the data collection and Processing.\n",
        "We will load the csv data to a Pandas DataFrame"
      ],
      "metadata": {
        "id": "1FmBfnxjQJ7z"
      }
    },
    {
      "cell_type": "code",
      "source": [
        "golddata = pd.read_csv('/content/gld_price_data.csv')\n",
        "print(golddata)"
      ],
      "metadata": {
        "id": "4qN1w7mLOqVJ",
        "colab": {
          "base_uri": "https://localhost:8080/"
        },
        "outputId": "bf1a5b47-1213-4d66-905b-c82efb248998"
      },
      "execution_count": null,
      "outputs": [
        {
          "output_type": "stream",
          "name": "stdout",
          "text": [
            "           Date          SPX         GLD        USO      SLV   EUR/USD\n",
            "0      1/2/2008  1447.160034   84.860001  78.470001  15.1800  1.471692\n",
            "1      1/3/2008  1447.160034   85.570000  78.370003  15.2850  1.474491\n",
            "2      1/4/2008  1411.630005   85.129997  77.309998  15.1670  1.475492\n",
            "3      1/7/2008  1416.180054   84.769997  75.500000  15.0530  1.468299\n",
            "4      1/8/2008  1390.189941   86.779999  76.059998  15.5900  1.557099\n",
            "...         ...          ...         ...        ...      ...       ...\n",
            "2285   5/8/2018  2671.919922  124.589996  14.060000  15.5100  1.186789\n",
            "2286   5/9/2018  2697.790039  124.330002  14.370000  15.5300  1.184722\n",
            "2287  5/10/2018  2723.070068  125.180000  14.410000  15.7400  1.191753\n",
            "2288  5/14/2018  2730.129883  124.489998  14.380000  15.5600  1.193118\n",
            "2289  5/16/2018  2725.780029  122.543800  14.405800  15.4542  1.182033\n",
            "\n",
            "[2290 rows x 6 columns]\n"
          ]
        }
      ]
    },
    {
      "cell_type": "markdown",
      "source": [
        "\n",
        "We have data of Approximately 10 Years and 2290 rows and 6 Columns\n",
        "* SPX or The Standard and Poor's 500, or simply the S&P 500, is a stock market index tracking the performance of 500 large companies listed on stock exchanges in the United States. \n",
        "* EUR/USD - Currency Pair of Euro and USD\n",
        "\n",
        "\n"
      ],
      "metadata": {
        "id": "VN3Y34X4RZLe"
      }
    },
    {
      "cell_type": "code",
      "source": [
        "golddata.info()    #Information about the data \n",
        "golddata.shape  #Knowing the number of rows and columns\n",
        "golddata.isnull().sum()   #Knowimg the missing values"
      ],
      "metadata": {
        "colab": {
          "base_uri": "https://localhost:8080/"
        },
        "id": "bVrhBLP3Qf6l",
        "outputId": "c47f9c6b-93eb-403a-cf1e-46714a2ceb95"
      },
      "execution_count": null,
      "outputs": [
        {
          "output_type": "stream",
          "name": "stdout",
          "text": [
            "<class 'pandas.core.frame.DataFrame'>\n",
            "RangeIndex: 2290 entries, 0 to 2289\n",
            "Data columns (total 6 columns):\n",
            " #   Column   Non-Null Count  Dtype  \n",
            "---  ------   --------------  -----  \n",
            " 0   Date     2290 non-null   object \n",
            " 1   SPX      2290 non-null   float64\n",
            " 2   GLD      2290 non-null   float64\n",
            " 3   USO      2290 non-null   float64\n",
            " 4   SLV      2290 non-null   float64\n",
            " 5   EUR/USD  2290 non-null   float64\n",
            "dtypes: float64(5), object(1)\n",
            "memory usage: 107.5+ KB\n"
          ]
        },
        {
          "output_type": "execute_result",
          "data": {
            "text/plain": [
              "Date       0\n",
              "SPX        0\n",
              "GLD        0\n",
              "USO        0\n",
              "SLV        0\n",
              "EUR/USD    0\n",
              "dtype: int64"
            ]
          },
          "metadata": {},
          "execution_count": 7
        }
      ]
    },
    {
      "cell_type": "code",
      "source": [
        "golddata.describe()    #The fn gives the statistical measure of the datamlike mean, percentile etc.."
      ],
      "metadata": {
        "colab": {
          "base_uri": "https://localhost:8080/",
          "height": 300
        },
        "id": "TEnu0ufzSb3i",
        "outputId": "3c6fa630-0aa6-48d1-9138-37c0d7735309"
      },
      "execution_count": null,
      "outputs": [
        {
          "output_type": "execute_result",
          "data": {
            "text/html": [
              "\n",
              "  <div id=\"df-e87ee174-97e3-4a11-9b53-d69eb3095c48\">\n",
              "    <div class=\"colab-df-container\">\n",
              "      <div>\n",
              "<style scoped>\n",
              "    .dataframe tbody tr th:only-of-type {\n",
              "        vertical-align: middle;\n",
              "    }\n",
              "\n",
              "    .dataframe tbody tr th {\n",
              "        vertical-align: top;\n",
              "    }\n",
              "\n",
              "    .dataframe thead th {\n",
              "        text-align: right;\n",
              "    }\n",
              "</style>\n",
              "<table border=\"1\" class=\"dataframe\">\n",
              "  <thead>\n",
              "    <tr style=\"text-align: right;\">\n",
              "      <th></th>\n",
              "      <th>SPX</th>\n",
              "      <th>GLD</th>\n",
              "      <th>USO</th>\n",
              "      <th>SLV</th>\n",
              "      <th>EUR/USD</th>\n",
              "    </tr>\n",
              "  </thead>\n",
              "  <tbody>\n",
              "    <tr>\n",
              "      <th>count</th>\n",
              "      <td>2290.000000</td>\n",
              "      <td>2290.000000</td>\n",
              "      <td>2290.000000</td>\n",
              "      <td>2290.000000</td>\n",
              "      <td>2290.000000</td>\n",
              "    </tr>\n",
              "    <tr>\n",
              "      <th>mean</th>\n",
              "      <td>1654.315776</td>\n",
              "      <td>122.732875</td>\n",
              "      <td>31.842221</td>\n",
              "      <td>20.084997</td>\n",
              "      <td>1.283653</td>\n",
              "    </tr>\n",
              "    <tr>\n",
              "      <th>std</th>\n",
              "      <td>519.111540</td>\n",
              "      <td>23.283346</td>\n",
              "      <td>19.523517</td>\n",
              "      <td>7.092566</td>\n",
              "      <td>0.131547</td>\n",
              "    </tr>\n",
              "    <tr>\n",
              "      <th>min</th>\n",
              "      <td>676.530029</td>\n",
              "      <td>70.000000</td>\n",
              "      <td>7.960000</td>\n",
              "      <td>8.850000</td>\n",
              "      <td>1.039047</td>\n",
              "    </tr>\n",
              "    <tr>\n",
              "      <th>25%</th>\n",
              "      <td>1239.874969</td>\n",
              "      <td>109.725000</td>\n",
              "      <td>14.380000</td>\n",
              "      <td>15.570000</td>\n",
              "      <td>1.171313</td>\n",
              "    </tr>\n",
              "    <tr>\n",
              "      <th>50%</th>\n",
              "      <td>1551.434998</td>\n",
              "      <td>120.580002</td>\n",
              "      <td>33.869999</td>\n",
              "      <td>17.268500</td>\n",
              "      <td>1.303296</td>\n",
              "    </tr>\n",
              "    <tr>\n",
              "      <th>75%</th>\n",
              "      <td>2073.010070</td>\n",
              "      <td>132.840004</td>\n",
              "      <td>37.827501</td>\n",
              "      <td>22.882499</td>\n",
              "      <td>1.369971</td>\n",
              "    </tr>\n",
              "    <tr>\n",
              "      <th>max</th>\n",
              "      <td>2872.870117</td>\n",
              "      <td>184.589996</td>\n",
              "      <td>117.480003</td>\n",
              "      <td>47.259998</td>\n",
              "      <td>1.598798</td>\n",
              "    </tr>\n",
              "  </tbody>\n",
              "</table>\n",
              "</div>\n",
              "      <button class=\"colab-df-convert\" onclick=\"convertToInteractive('df-e87ee174-97e3-4a11-9b53-d69eb3095c48')\"\n",
              "              title=\"Convert this dataframe to an interactive table.\"\n",
              "              style=\"display:none;\">\n",
              "        \n",
              "  <svg xmlns=\"http://www.w3.org/2000/svg\" height=\"24px\"viewBox=\"0 0 24 24\"\n",
              "       width=\"24px\">\n",
              "    <path d=\"M0 0h24v24H0V0z\" fill=\"none\"/>\n",
              "    <path d=\"M18.56 5.44l.94 2.06.94-2.06 2.06-.94-2.06-.94-.94-2.06-.94 2.06-2.06.94zm-11 1L8.5 8.5l.94-2.06 2.06-.94-2.06-.94L8.5 2.5l-.94 2.06-2.06.94zm10 10l.94 2.06.94-2.06 2.06-.94-2.06-.94-.94-2.06-.94 2.06-2.06.94z\"/><path d=\"M17.41 7.96l-1.37-1.37c-.4-.4-.92-.59-1.43-.59-.52 0-1.04.2-1.43.59L10.3 9.45l-7.72 7.72c-.78.78-.78 2.05 0 2.83L4 21.41c.39.39.9.59 1.41.59.51 0 1.02-.2 1.41-.59l7.78-7.78 2.81-2.81c.8-.78.8-2.07 0-2.86zM5.41 20L4 18.59l7.72-7.72 1.47 1.35L5.41 20z\"/>\n",
              "  </svg>\n",
              "      </button>\n",
              "      \n",
              "  <style>\n",
              "    .colab-df-container {\n",
              "      display:flex;\n",
              "      flex-wrap:wrap;\n",
              "      gap: 12px;\n",
              "    }\n",
              "\n",
              "    .colab-df-convert {\n",
              "      background-color: #E8F0FE;\n",
              "      border: none;\n",
              "      border-radius: 50%;\n",
              "      cursor: pointer;\n",
              "      display: none;\n",
              "      fill: #1967D2;\n",
              "      height: 32px;\n",
              "      padding: 0 0 0 0;\n",
              "      width: 32px;\n",
              "    }\n",
              "\n",
              "    .colab-df-convert:hover {\n",
              "      background-color: #E2EBFA;\n",
              "      box-shadow: 0px 1px 2px rgba(60, 64, 67, 0.3), 0px 1px 3px 1px rgba(60, 64, 67, 0.15);\n",
              "      fill: #174EA6;\n",
              "    }\n",
              "\n",
              "    [theme=dark] .colab-df-convert {\n",
              "      background-color: #3B4455;\n",
              "      fill: #D2E3FC;\n",
              "    }\n",
              "\n",
              "    [theme=dark] .colab-df-convert:hover {\n",
              "      background-color: #434B5C;\n",
              "      box-shadow: 0px 1px 3px 1px rgba(0, 0, 0, 0.15);\n",
              "      filter: drop-shadow(0px 1px 2px rgba(0, 0, 0, 0.3));\n",
              "      fill: #FFFFFF;\n",
              "    }\n",
              "  </style>\n",
              "\n",
              "      <script>\n",
              "        const buttonEl =\n",
              "          document.querySelector('#df-e87ee174-97e3-4a11-9b53-d69eb3095c48 button.colab-df-convert');\n",
              "        buttonEl.style.display =\n",
              "          google.colab.kernel.accessAllowed ? 'block' : 'none';\n",
              "\n",
              "        async function convertToInteractive(key) {\n",
              "          const element = document.querySelector('#df-e87ee174-97e3-4a11-9b53-d69eb3095c48');\n",
              "          const dataTable =\n",
              "            await google.colab.kernel.invokeFunction('convertToInteractive',\n",
              "                                                     [key], {});\n",
              "          if (!dataTable) return;\n",
              "\n",
              "          const docLinkHtml = 'Like what you see? Visit the ' +\n",
              "            '<a target=\"_blank\" href=https://colab.research.google.com/notebooks/data_table.ipynb>data table notebook</a>'\n",
              "            + ' to learn more about interactive tables.';\n",
              "          element.innerHTML = '';\n",
              "          dataTable['output_type'] = 'display_data';\n",
              "          await google.colab.output.renderOutput(dataTable, element);\n",
              "          const docLink = document.createElement('div');\n",
              "          docLink.innerHTML = docLinkHtml;\n",
              "          element.appendChild(docLink);\n",
              "        }\n",
              "      </script>\n",
              "    </div>\n",
              "  </div>\n",
              "  "
            ],
            "text/plain": [
              "               SPX          GLD          USO          SLV      EUR/USD\n",
              "count  2290.000000  2290.000000  2290.000000  2290.000000  2290.000000\n",
              "mean   1654.315776   122.732875    31.842221    20.084997     1.283653\n",
              "std     519.111540    23.283346    19.523517     7.092566     0.131547\n",
              "min     676.530029    70.000000     7.960000     8.850000     1.039047\n",
              "25%    1239.874969   109.725000    14.380000    15.570000     1.171313\n",
              "50%    1551.434998   120.580002    33.869999    17.268500     1.303296\n",
              "75%    2073.010070   132.840004    37.827501    22.882499     1.369971\n",
              "max    2872.870117   184.589996   117.480003    47.259998     1.598798"
            ]
          },
          "metadata": {},
          "execution_count": 8
        }
      ]
    },
    {
      "cell_type": "markdown",
      "source": [
        "Now we will understand the Correlation between the columns for any regression problems.\n",
        "1. Positive Correlation(if columns we are considering is directly proportional)\n",
        "2. Negative Correlation(if columns we are considering is indirectly proportional)"
      ],
      "metadata": {
        "id": "D2ywp09zTV6n"
      }
    },
    {
      "cell_type": "code",
      "source": [
        "correlation = golddata.corr()\n",
        "plt.figure(figsize=(8,8))\n",
        "sns.heatmap(correlation, cbar=True, square=True, fmt='.1f', annot=True, annot_kws={'size':8}, cmap='Oranges')   \n",
        "#Constructing the heatmap to understand the correlations\n",
        "#square=True gives square map and fmt='.1f' which gives only 1 decimal floating points it will give."
      ],
      "metadata": {
        "colab": {
          "base_uri": "https://localhost:8080/",
          "height": 487
        },
        "id": "8SeLGsuETF_g",
        "outputId": "10a0cdf0-0816-46de-f49f-81bf6b254a70"
      },
      "execution_count": null,
      "outputs": [
        {
          "output_type": "execute_result",
          "data": {
            "text/plain": [
              "<matplotlib.axes._subplots.AxesSubplot at 0x7f52b8b57210>"
            ]
          },
          "metadata": {},
          "execution_count": 18
        },
        {
          "output_type": "display_data",
          "data": {
            "image/png": "[encoded data removed]",
            "text/plain": [
              "<Figure size 576x576 with 2 Axes>"
            ]
          },
          "metadata": {
            "needs_background": "light"
          }
        }
      ]
    },
    {
      "cell_type": "markdown",
      "source": [
        "Observations:\n",
        "1. The poitive values represent the positive Correlation and the negative values represent the negative Correlation.\n",
        "2. if we observe the GLD(Gold) vs SLV(Silver). They are postive correlated by the unit of 0.9"
      ],
      "metadata": {
        "id": "j3IN9aftWMjp"
      }
    },
    {
      "cell_type": "code",
      "source": [
        "print(correlation)  #correlation values of different parameters like gold silver etc. If we want gold alone we can use print(correlation['GLD])"
      ],
      "metadata": {
        "id": "w2_X74teVi-H",
        "colab": {
          "base_uri": "https://localhost:8080/"
        },
        "outputId": "4690c77f-73b6-476b-da77-9876064531b9"
      },
      "execution_count": null,
      "outputs": [
        {
          "output_type": "stream",
          "name": "stdout",
          "text": [
            "              SPX       GLD       USO       SLV   EUR/USD\n",
            "SPX      1.000000  0.049345 -0.591573 -0.274055 -0.672017\n",
            "GLD      0.049345  1.000000 -0.186360  0.866632 -0.024375\n",
            "USO     -0.591573 -0.186360  1.000000  0.167547  0.829317\n",
            "SLV     -0.274055  0.866632  0.167547  1.000000  0.321631\n",
            "EUR/USD -0.672017 -0.024375  0.829317  0.321631  1.000000\n"
          ]
        }
      ]
    },
    {
      "cell_type": "code",
      "source": [
        "# we will check the distribution of the GOLD price\n",
        "sns.distplot(golddata['GLD'], color='Blue')"
      ],
      "metadata": {
        "colab": {
          "base_uri": "https://localhost:8080/",
          "height": 355
        },
        "id": "Vrqm3LRFYJjq",
        "outputId": "52323cfb-ea89-4021-ce74-3635795a85e3"
      },
      "execution_count": null,
      "outputs": [
        {
          "output_type": "stream",
          "name": "stderr",
          "text": [
            "/usr/local/lib/python3.7/dist-packages/seaborn/distributions.py:2619: FutureWarning: `distplot` is a deprecated function and will be removed in a future version. Please adapt your code to use either `displot` (a figure-level function with similar flexibility) or `histplot` (an axes-level function for histograms).\n",
            "  warnings.warn(msg, FutureWarning)\n"
          ]
        },
        {
          "output_type": "execute_result",
          "data": {
            "text/plain": [
              "<matplotlib.axes._subplots.AxesSubplot at 0x7f52b2f0d0d0>"
            ]
          },
          "metadata": {},
          "execution_count": 22
        },
        {
          "output_type": "display_data",
          "data": {
            "image/png": "[encoded data removed]",
            "text/plain": [
              "<Figure size 432x288 with 1 Axes>"
            ]
          },
          "metadata": {
            "needs_background": "light"
          }
        }
      ]
    },
    {
      "cell_type": "markdown",
      "source": [
        "So we can see that the most of the Gold Price lies in the range around 120 from the 10 Years data."
      ],
      "metadata": {
        "id": "NdZcdohuZEsY"
      }
    },
    {
      "cell_type": "markdown",
      "source": [
        "Now we will split the data and the specific target such as Gold"
      ],
      "metadata": {
        "id": "5B9N9JFNZnIh"
      }
    },
    {
      "cell_type": "code",
      "source": [
        "X = golddata.drop(['Date','GLD'],axis=1)   #we have removed the date and Gold data from the set\n",
        "Y = golddata['GLD']     #we have assigned the Gold data to the Y because we are predicting the Gold price itself so we need it.\n",
        "print(X)\n",
        "print(Y)"
      ],
      "metadata": {
        "colab": {
          "base_uri": "https://localhost:8080/"
        },
        "id": "lMMpYU9RY4j8",
        "outputId": "55abb933-5ba8-4bd3-fcb4-521a93a03858"
      },
      "execution_count": null,
      "outputs": [
        {
          "output_type": "stream",
          "name": "stdout",
          "text": [
            "              SPX        USO      SLV   EUR/USD\n",
            "0     1447.160034  78.470001  15.1800  1.471692\n",
            "1     1447.160034  78.370003  15.2850  1.474491\n",
            "2     1411.630005  77.309998  15.1670  1.475492\n",
            "3     1416.180054  75.500000  15.0530  1.468299\n",
            "4     1390.189941  76.059998  15.5900  1.557099\n",
            "...           ...        ...      ...       ...\n",
            "2285  2671.919922  14.060000  15.5100  1.186789\n",
            "2286  2697.790039  14.370000  15.5300  1.184722\n",
            "2287  2723.070068  14.410000  15.7400  1.191753\n",
            "2288  2730.129883  14.380000  15.5600  1.193118\n",
            "2289  2725.780029  14.405800  15.4542  1.182033\n",
            "\n",
            "[2290 rows x 4 columns]\n",
            "0        84.860001\n",
            "1        85.570000\n",
            "2        85.129997\n",
            "3        84.769997\n",
            "4        86.779999\n",
            "           ...    \n",
            "2285    124.589996\n",
            "2286    124.330002\n",
            "2287    125.180000\n",
            "2288    124.489998\n",
            "2289    122.543800\n",
            "Name: GLD, Length: 2290, dtype: float64\n"
          ]
        }
      ]
    },
    {
      "cell_type": "markdown",
      "source": [
        "Now we have to Separate the data into train data and test data.\n",
        "1. We will train our ML Algorithm using training data and Evaluate our regressor using the test data\n",
        "2. 80% of the data will be assigned for training and the 20% will be assigned to the testing"
      ],
      "metadata": {
        "id": "SmS4s5ccagEI"
      }
    },
    {
      "cell_type": "code",
      "source": [
        "#Splitting data into train and test data\n",
        "X_train, X_test, Y_train, Y_test = train_test_split(X, Y, test_size=0.2, random_state=2)\n",
        "#X_train consists of train data of parameters except Gold and we have to predict the Gold\n",
        "#Y_train consists of training data of the gold"
      ],
      "metadata": {
        "id": "wGlYsjSvaUz4"
      },
      "execution_count": null,
      "outputs": []
    },
    {
      "cell_type": "markdown",
      "source": [
        "**Training the model: Random Forest Regression**"
      ],
      "metadata": {
        "id": "7nJSkIkHcLJH"
      }
    },
    {
      "cell_type": "code",
      "source": [
        "regressor = RandomForestRegressor(n_estimators=100)    "
      ],
      "metadata": {
        "id": "K3Ftk_4Rbpt0"
      },
      "execution_count": null,
      "outputs": []
    },
    {
      "cell_type": "code",
      "source": [
        "#now we are training the model\n",
        "regressor.fit(X_train,Y_train)"
      ],
      "metadata": {
        "colab": {
          "base_uri": "https://localhost:8080/"
        },
        "id": "-JH8Xa6ydTzl",
        "outputId": "b68de2c5-04ba-499d-dac3-1fdeba2ec192"
      },
      "execution_count": null,
      "outputs": [
        {
          "output_type": "execute_result",
          "data": {
            "text/plain": [
              "RandomForestRegressor()"
            ]
          },
          "metadata": {},
          "execution_count": 30
        }
      ]
    },
    {
      "cell_type": "markdown",
      "source": [
        "Now the model is trained and we have to do the model Evaluation now"
      ],
      "metadata": {
        "id": "T3H6QBgydrkI"
      }
    },
    {
      "cell_type": "markdown",
      "source": [
        "**Model Evaluation**"
      ],
      "metadata": {
        "id": "QXiM2Ugmd0kK"
      }
    },
    {
      "cell_type": "code",
      "source": [
        "#evaluation or data prediction based on the test data\n",
        "test_data_prediction = regressor.predict(X_test)           #prediction of the Gold price using the X_test data\n",
        "print(test_data_prediction)             "
      ],
      "metadata": {
        "colab": {
          "base_uri": "https://localhost:8080/"
        },
        "id": "RnaJrFRxdkL_",
        "outputId": "320ce5e3-f1d9-4747-f2fc-461d2fd947a2"
      },
      "execution_count": null,
      "outputs": [
        {
          "output_type": "stream",
          "name": "stdout",
          "text": [
            "[168.61059935  81.79219994 116.05030022 127.67320073 120.77830075\n",
            " 154.84759779 150.80329854 126.01130108 117.49939891 125.99150092\n",
            " 116.63760118 172.40880127 142.17039832 167.94429841 115.28940007\n",
            " 117.86580052 137.90880296 170.11520132 159.05490362 157.80759894\n",
            " 155.07490029 124.95750025 175.68249874 156.99490328 125.11680043\n",
            "  93.68489954  77.73109992 120.41370025 119.00749904 167.45750002\n",
            "  87.85780062 125.04369972  91.13930121 117.74560019 121.13679899\n",
            " 136.73970115 115.5221011  114.96060108 147.76439989 107.11980105\n",
            " 104.66350264  87.14089787 126.55430052 118.1689     153.656499\n",
            " 119.65980007 108.39390008 108.53239806  93.24750074 127.16879774\n",
            "  74.40950054 113.52629901 121.23450028 111.3135991  119.08509904\n",
            " 120.54039955 158.52650032 168.67240081 146.9302969   85.80269831\n",
            "  94.16900031  86.85239891  90.83589984 118.87890073 126.44250091\n",
            " 127.37270032 169.4188991  122.26059945 117.33369905  98.51999984\n",
            " 168.02340096 143.40429904 132.16740248 121.33030229 121.69629958\n",
            " 119.83980065 114.63290179 118.37750068 106.97570098 127.85699982\n",
            " 113.70850008 107.4213999  116.84430036 119.66709871  89.10780055\n",
            "  88.28509875 146.23250228 127.10480006 113.39130058 110.34749864\n",
            " 108.11049921  77.43879896 169.25700193 113.95149904 121.53079912\n",
            " 128.30380218 155.11309829  91.72609932 135.68280076 157.3269036\n",
            " 125.45760076 125.2090004  130.62600221 114.95520123 119.82790013\n",
            "  92.22579975 110.04959906 167.84469896 157.75999862 114.20859957\n",
            " 106.63490133  79.95829941 113.22860032 125.83480083 107.24329925\n",
            " 119.49980137 154.75480259 159.71529944 120.05910002 134.28420347\n",
            " 101.63099979 117.60289811 119.17970029 112.88790063 102.79459914\n",
            " 159.96389802  98.80250035 148.18929977 125.85370128 170.10379947\n",
            " 125.58669865 127.34149762 127.34130146 113.75139936 113.23310096\n",
            " 123.53519897 102.13359873  89.32449988 124.72749938 101.15839916\n",
            " 107.35029889 113.5936005  117.5563008   99.5791994  121.76940053\n",
            " 163.1157987   87.43899868 106.57549999 116.97170105 127.69030067\n",
            " 124.1124006   80.63509926 120.51610033 156.95769855  87.88569967\n",
            " 110.11919979 118.76649883 173.01839898 103.06299865 105.81810039\n",
            " 122.5507005  157.660298    87.70029849  93.59720062 112.87000009\n",
            " 176.64499897 114.36769955 119.19140007  94.67030081 125.70789988\n",
            " 166.13850096 114.99310072 116.61230156  88.38129881 148.74750087\n",
            " 120.29029948  89.55249983 112.32420006 117.51750018 118.78300123\n",
            "  88.23739947  94.02209995 117.07399997 118.6018019  120.19400036\n",
            " 126.93239778 121.85469995 151.65839994 164.89490067 118.47899968\n",
            " 120.25700141 151.46000016 118.70929926 172.89739923 105.33649936\n",
            " 104.99600113 148.79380093 113.39700095 124.64010091 147.31730028\n",
            " 119.65610121 115.36640042 112.46060017 113.68600179 141.63690179\n",
            " 117.69259792 102.9298004  115.92150091 103.83800203  98.96800021\n",
            " 117.44160094  90.72620017  91.42810048 153.03069872 102.69169959\n",
            " 154.06700112 114.45880142 138.41760135  90.18629822 115.58499992\n",
            " 114.64749971 122.69900073 121.71720037 165.21280043  92.9309993\n",
            " 135.2239018  121.38909907 120.78620062 104.45120008 142.06710302\n",
            " 120.99119911 116.7158004  113.57890075 127.03049774 122.5055994\n",
            " 125.73759936 121.23750021  86.91779878 132.4549025  143.79500245\n",
            "  92.66779984 161.03749993 157.4824021  126.48069932 164.36359868\n",
            " 108.90979967 110.01360067 103.54489815  94.41270088 127.88720283\n",
            " 107.20270073 163.87800027 121.69740023 131.96129973 130.68410175\n",
            " 160.42509977  90.11289854 173.73430046 127.66270031 126.91529834\n",
            "  86.34239865 124.46229943 150.48339718  89.7032001  106.81389968\n",
            " 109.1183      83.85189887 136.16050011 155.46770175 140.45440408\n",
            "  74.77150007 152.95980121 125.98229969 126.70990025 127.55159935\n",
            " 108.56059934 156.29440025 114.63470111 117.03870134 125.0514998\n",
            " 154.06380136 121.26849977 156.46759832  92.88770058 125.54010077\n",
            " 125.42399997  87.91160051  92.26759908 126.20529967 128.30340355\n",
            " 113.22010082 117.57409753 120.8703999  127.15029805 119.899101\n",
            " 136.98290119  93.87169923 119.74510055 113.28800095  94.26869947\n",
            " 108.97879971  87.15049913 108.93049991  89.46969996  92.48650007\n",
            " 131.72090303 162.36180081  89.34919998 119.59980077 133.40260168\n",
            " 123.95860034 128.33500195 102.01159852  89.06799828 131.45420072\n",
            " 120.19090025 108.64959992 169.61530123 115.0944003   86.58229908\n",
            " 118.8590003   91.10019954 161.85150095 116.46630069 121.47970007\n",
            " 160.05099772 120.0768996  112.64179949 108.4285986  126.70619956\n",
            "  75.73860047 102.9913998  127.77970233 121.68769938  92.58900008\n",
            " 131.99430027 118.21340171 115.88869959 154.56930214 159.504601\n",
            " 110.06049977 153.91019727 119.26450058 160.44950077 118.47110029\n",
            " 157.93469887 115.15519989 116.61020034 148.36839948 114.98780066\n",
            " 125.69979921 166.45639987 117.72240022 124.84549932 153.49100346\n",
            " 153.55260218 132.15330053 114.86230055 121.35400147 124.77750027\n",
            "  89.8677003  123.07559982 154.92670075 111.68940024 106.67639994\n",
            " 162.16820136 118.5056995  165.83090071 134.05860068 114.8833994\n",
            " 152.95809921 168.7115001  114.91439994 114.10930148 158.24469853\n",
            "  85.13999866 127.09350045 127.90950028 128.86560058 124.47600099\n",
            " 123.9421008   90.65090075 153.45589967  97.31559946 136.74200013\n",
            "  89.04219911 107.30010007 115.0380005  112.77410107 123.83359921\n",
            "  91.4414988  125.47660153 162.30849913 119.97769871 165.13130096\n",
            " 126.96549788 112.38920029 127.63329971  95.209699    91.1579\n",
            " 102.95129911 120.66029976  83.30419944 126.4416     159.99170522\n",
            " 117.34480097 118.34979952 120.0002999  122.67769946 120.05120124\n",
            " 121.44150011 118.46890075 107.0807999  147.67919897 126.26279851\n",
            " 115.87040098  73.92710011 127.78060069 153.98180028 123.30839997\n",
            " 125.58970094  88.68349996 103.71389858 124.42560043 120.29040031\n",
            "  73.4839008  151.65229975 121.08250077 104.64639957  86.58389761\n",
            " 115.06399905 172.31639772 120.01300007 160.21309818 113.15929962\n",
            " 121.27440015 118.67050123  95.85049974 118.55899976 126.0656006\n",
            " 118.62889969  96.491101   153.99840183 122.45300028 147.67539946\n",
            " 158.88950245 113.76070032 122.56589934 150.09659913 126.99870026\n",
            " 165.6153003  135.79700061 120.00919996 168.12339918 108.7233993\n",
            " 121.76219851 139.79130102 106.96359907]\n"
          ]
        }
      ]
    },
    {
      "cell_type": "markdown",
      "source": [
        "The above are the predicted Gold Prices.\n",
        "\n",
        "*   We have to compare the predicted values with the Actual values of Gold\n",
        "*   the actual values are Y_test and the predicted values are stored in X_test\n"
      ],
      "metadata": {
        "id": "IzPa_zHUf5Tr"
      }
    },
    {
      "cell_type": "code",
      "source": [
        "error_score = metrics.r2_score(Y_test, test_data_prediction) #we are using the R square error to find the different between the actual and predicted values\n",
        "print(\"R Squared Error is \", error_score)"
      ],
      "metadata": {
        "id": "DeRTDg7zeMmi",
        "colab": {
          "base_uri": "https://localhost:8080/"
        },
        "outputId": "5bb9cfa4-5b54-479d-8b42-b59e8a0fb484"
      },
      "execution_count": 32,
      "outputs": [
        {
          "output_type": "stream",
          "name": "stdout",
          "text": [
            "R Squared Error is  0.9883346683417857\n"
          ]
        }
      ]
    },
    {
      "cell_type": "markdown",
      "source": [
        "\n",
        "*   So the above is the error value which is the error difference between the Actual Gold prices and the predicted Gold prices.\n",
        "*   We will compare the Actual values and Predcited Values using a Plot\n",
        "\n",
        "\n"
      ],
      "metadata": {
        "id": "DF2m9WTUhVT2"
      }
    },
    {
      "cell_type": "code",
      "source": [
        "plt.plot(list(Y_test), color='Blue', label = 'Actual Value')\n",
        "plt.plot(test_data_prediction, color='Green', label='Predicted Value')\n",
        "plt.title('Actual Price vs Predicted Value')\n",
        "plt.xlabel('Number of Values')\n",
        "plt.ylabel('GLD Price')\n",
        "plt.legend()\n",
        "plt.show"
      ],
      "metadata": {
        "colab": {
          "base_uri": "https://localhost:8080/",
          "height": 312
        },
        "id": "Kw92S88_hLIW",
        "outputId": "8abd38d8-34d0-4268-8fd0-0f60dca5c25c"
      },
      "execution_count": 36,
      "outputs": [
        {
          "output_type": "execute_result",
          "data": {
            "text/plain": [
              "<function matplotlib.pyplot.show>"
            ]
          },
          "metadata": {},
          "execution_count": 36
        },
        {
          "output_type": "display_data",
          "data": {
            "image/png": "[encoded data removed]",
            "text/plain": [
              "<Figure size 432x288 with 1 Axes>"
            ]
          },
          "metadata": {
            "needs_background": "light"
          }
        }
      ]
    },
    {
      "cell_type": "markdown",
      "source": [
        "**CONCLUSION**\n",
        "\n",
        "*   We can see that the predicted Values are very close to the actual values\n",
        "*   Actual values are bit higher than the Predicted values i.e what the Error of 0.98...shows.\n",
        "\n",
        "*   We have succesfully implemented the Random Forest Regressor to predict the Gold Prices using the past data with the R-sqaure error of  0.9883346683417857\n",
        "\n",
        "\n"
      ],
      "metadata": {
        "id": "NPIQNYBtjQv5"
      }
    },
    {
      "cell_type": "code",
      "source": [
        ""
      ],
      "metadata": {
        "id": "PRL21pfii0_H"
      },
      "execution_count": null,
      "outputs": []
    }
  ]
}